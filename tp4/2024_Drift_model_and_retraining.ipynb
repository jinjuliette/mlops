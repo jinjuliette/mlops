{
 "cells": [
  {
   "cell_type": "code",
   "execution_count": 2,
   "metadata": {},
   "outputs": [
    {
     "name": "stderr",
     "output_type": "stream",
     "text": [
      "/home/jubuntu/anaconda3/envs/mlops_putain_de_merde/lib/python3.11/site-packages/tqdm/auto.py:21: TqdmWarning: IProgress not found. Please update jupyter and ipywidgets. See https://ipywidgets.readthedocs.io/en/stable/user_install.html\n",
      "  from .autonotebook import tqdm as notebook_tqdm\n"
     ]
    }
   ],
   "source": [
    "import pandas as pd\n",
    "from sklearn.model_selection import train_test_split\n",
    "from eurybia import SmartDrift\n",
    "from sklearn.ensemble import RandomForestRegressor"
   ]
  },
  {
   "cell_type": "markdown",
   "metadata": {
    "id": "LA_QTG8vFs8E"
   },
   "source": [
    "## Modèle en production\n",
    "\n",
    "Laurent Cetinsoy - Datadidacte\n",
    "\n",
    "Une des supposition centrale pour qu'un modèle de machine learning marche est que la distribution des données ne diffère pas de celle des données d'entrainement.\n",
    "\n",
    "On ne peut garantir la généralisation d'un modèle que si la distribution des données est similaire à celle de la distribution $ X_{prod} \\tilde{} \\,  P_{train}$\n",
    "\n",
    "Ainsi, si les données que le modèle voient en production n'ont pas la même distribution (ne ressemblent pas) aux données de train, alors le modèle aura peu de chance de faire de bonne prédictions.\n",
    "\n",
    "Il est donc important de surveille les données vues par le modèle en production.\n",
    "\n",
    "Pour cela on va mesurer ce qu'on appelle le Data drift : on va mesurer à quel point les données s'écartent des données de train.\n",
    "\n",
    "Et on pourra ainsi lever une alerte si c'est le cas."
   ]
  },
  {
   "cell_type": "markdown",
   "metadata": {
    "id": "GEHFqy-yFs8K"
   },
   "source": [
    "## Utilisation Eurybia\n"
   ]
  },
  {
   "cell_type": "markdown",
   "metadata": {
    "id": "g7Cr8DVyFs8N"
   },
   "source": [
    "\n",
    "En consultant la documentation de Eurybia (https://eurybia.readthedocs.io/en/latest/overview.html), expliquer le principe de fonctionnement de Euribya :\n",
    "\n",
    "- A quoi sert le modèle de classification ?\n",
    "- A-t-on besoin d’avoir les labels issus de la production pour pouvoir utiliser cette approche ?\n",
    "- Quel est le critère pour déterminer qu’il y a un data-drift ?\n"
   ]
  },
  {
   "cell_type": "markdown",
   "metadata": {},
   "source": [
    "- Le modèle de classification sert à prédire si un échantillon de données est issu de la distribution de données d'entrainement ou non.\n",
    "- Non.\n",
    "- Le critère pour déterminer qu'il y a un data-drift est la probabilité de rejet. Si cette probabilité est supérieure à un seuil donné, alors il y a un data-drift."
   ]
  },
  {
   "cell_type": "markdown",
   "metadata": {
    "id": "fAn3sAA7Fs8W"
   },
   "source": [
    "Installer eurybia"
   ]
  },
  {
   "cell_type": "code",
   "execution_count": 2,
   "metadata": {
    "id": "cUCfIkyzFs8Z"
   },
   "outputs": [
    {
     "name": "stdout",
     "output_type": "stream",
     "text": [
      "Requirement already satisfied: eurybia in /home/jubuntu/anaconda3/envs/mlops/lib/python3.12/site-packages (1.3.3)\n",
      "Requirement already satisfied: pandas>=2 in /home/jubuntu/anaconda3/envs/mlops/lib/python3.12/site-packages (from eurybia) (2.2.3)\n",
      "Requirement already satisfied: catboost>=1.0.1 in /home/jubuntu/anaconda3/envs/mlops/lib/python3.12/site-packages (from eurybia) (1.2.7)\n",
      "Requirement already satisfied: panel>=1.4.1 in /home/jubuntu/anaconda3/envs/mlops/lib/python3.12/site-packages (from eurybia) (1.5.3)\n",
      "Requirement already satisfied: jinja2>=2.11.0 in /home/jubuntu/anaconda3/envs/mlops/lib/python3.12/site-packages (from eurybia) (3.1.4)\n",
      "Requirement already satisfied: scipy>=1.4.0 in /home/jubuntu/anaconda3/envs/mlops/lib/python3.12/site-packages (from eurybia) (1.14.1)\n",
      "Requirement already satisfied: seaborn>=0.10.1 in /home/jubuntu/anaconda3/envs/mlops/lib/python3.12/site-packages (from eurybia) (0.13.2)\n",
      "Requirement already satisfied: shapash>=2.0.0 in /home/jubuntu/anaconda3/envs/mlops/lib/python3.12/site-packages (from eurybia) (2.7.4)\n",
      "Requirement already satisfied: plotly in /home/jubuntu/anaconda3/envs/mlops/lib/python3.12/site-packages (from eurybia) (5.24.1)\n",
      "Requirement already satisfied: graphviz in /home/jubuntu/anaconda3/envs/mlops/lib/python3.12/site-packages (from catboost>=1.0.1->eurybia) (0.20.3)\n",
      "Requirement already satisfied: matplotlib in /home/jubuntu/anaconda3/envs/mlops/lib/python3.12/site-packages (from catboost>=1.0.1->eurybia) (3.9.2)\n",
      "Requirement already satisfied: numpy<2.0,>=1.16.0 in /home/jubuntu/anaconda3/envs/mlops/lib/python3.12/site-packages (from catboost>=1.0.1->eurybia) (1.26.4)\n",
      "Requirement already satisfied: six in /home/jubuntu/anaconda3/envs/mlops/lib/python3.12/site-packages (from catboost>=1.0.1->eurybia) (1.16.0)\n",
      "Requirement already satisfied: MarkupSafe>=2.0 in /home/jubuntu/anaconda3/envs/mlops/lib/python3.12/site-packages (from jinja2>=2.11.0->eurybia) (3.0.2)\n",
      "Requirement already satisfied: python-dateutil>=2.8.2 in /home/jubuntu/anaconda3/envs/mlops/lib/python3.12/site-packages (from pandas>=2->eurybia) (2.9.0)\n",
      "Requirement already satisfied: pytz>=2020.1 in /home/jubuntu/anaconda3/envs/mlops/lib/python3.12/site-packages (from pandas>=2->eurybia) (2024.2)\n",
      "Requirement already satisfied: tzdata>=2022.7 in /home/jubuntu/anaconda3/envs/mlops/lib/python3.12/site-packages (from pandas>=2->eurybia) (2024.2)\n",
      "Requirement already satisfied: bleach in /home/jubuntu/anaconda3/envs/mlops/lib/python3.12/site-packages (from panel>=1.4.1->eurybia) (6.2.0)\n",
      "Requirement already satisfied: bokeh<3.7.0,>=3.5.0 in /home/jubuntu/anaconda3/envs/mlops/lib/python3.12/site-packages (from panel>=1.4.1->eurybia) (3.6.1)\n",
      "Requirement already satisfied: linkify-it-py in /home/jubuntu/anaconda3/envs/mlops/lib/python3.12/site-packages (from panel>=1.4.1->eurybia) (2.0.3)\n",
      "Requirement already satisfied: markdown in /home/jubuntu/anaconda3/envs/mlops/lib/python3.12/site-packages (from panel>=1.4.1->eurybia) (3.7)\n",
      "Requirement already satisfied: markdown-it-py in /home/jubuntu/anaconda3/envs/mlops/lib/python3.12/site-packages (from panel>=1.4.1->eurybia) (3.0.0)\n",
      "Requirement already satisfied: mdit-py-plugins in /home/jubuntu/anaconda3/envs/mlops/lib/python3.12/site-packages (from panel>=1.4.1->eurybia) (0.4.2)\n",
      "Requirement already satisfied: packaging in /home/jubuntu/anaconda3/envs/mlops/lib/python3.12/site-packages (from panel>=1.4.1->eurybia) (24.1)\n",
      "Requirement already satisfied: param<3.0,>=2.1.0 in /home/jubuntu/anaconda3/envs/mlops/lib/python3.12/site-packages (from panel>=1.4.1->eurybia) (2.1.1)\n",
      "Requirement already satisfied: pyviz-comms>=2.0.0 in /home/jubuntu/anaconda3/envs/mlops/lib/python3.12/site-packages (from panel>=1.4.1->eurybia) (3.0.3)\n",
      "Requirement already satisfied: requests in /home/jubuntu/anaconda3/envs/mlops/lib/python3.12/site-packages (from panel>=1.4.1->eurybia) (2.32.3)\n",
      "Requirement already satisfied: tqdm in /home/jubuntu/anaconda3/envs/mlops/lib/python3.12/site-packages (from panel>=1.4.1->eurybia) (4.67.0)\n",
      "Requirement already satisfied: typing-extensions in /home/jubuntu/anaconda3/envs/mlops/lib/python3.12/site-packages (from panel>=1.4.1->eurybia) (4.12.2)\n",
      "Requirement already satisfied: shap>=0.45.0 in /home/jubuntu/anaconda3/envs/mlops/lib/python3.12/site-packages (from shapash>=2.0.0->eurybia) (0.46.0)\n",
      "Requirement already satisfied: Flask>=1.0.4 in /home/jubuntu/anaconda3/envs/mlops/lib/python3.12/site-packages (from shapash>=2.0.0->eurybia) (3.0.3)\n",
      "Requirement already satisfied: dash>=2.3.1 in /home/jubuntu/anaconda3/envs/mlops/lib/python3.12/site-packages (from shapash>=2.0.0->eurybia) (2.18.2)\n",
      "Requirement already satisfied: dash-bootstrap-components>=1.1.0 in /home/jubuntu/anaconda3/envs/mlops/lib/python3.12/site-packages (from shapash>=2.0.0->eurybia) (1.6.0)\n",
      "Requirement already satisfied: dash-core-components>=2.0.0 in /home/jubuntu/anaconda3/envs/mlops/lib/python3.12/site-packages (from shapash>=2.0.0->eurybia) (2.0.0)\n",
      "Requirement already satisfied: dash-daq>=0.5.0 in /home/jubuntu/anaconda3/envs/mlops/lib/python3.12/site-packages (from shapash>=2.0.0->eurybia) (0.5.0)\n",
      "Requirement already satisfied: dash-html-components>=2.0.0 in /home/jubuntu/anaconda3/envs/mlops/lib/python3.12/site-packages (from shapash>=2.0.0->eurybia) (2.0.0)\n",
      "Requirement already satisfied: dash-renderer==1.8.3 in /home/jubuntu/anaconda3/envs/mlops/lib/python3.12/site-packages (from shapash>=2.0.0->eurybia) (1.8.3)\n",
      "Requirement already satisfied: dash-table>=5.0.0 in /home/jubuntu/anaconda3/envs/mlops/lib/python3.12/site-packages (from shapash>=2.0.0->eurybia) (5.0.0)\n",
      "Requirement already satisfied: nbformat>4.2.0 in /home/jubuntu/anaconda3/envs/mlops/lib/python3.12/site-packages (from shapash>=2.0.0->eurybia) (5.10.4)\n",
      "Requirement already satisfied: numba>=0.53.1 in /home/jubuntu/anaconda3/envs/mlops/lib/python3.12/site-packages (from shapash>=2.0.0->eurybia) (0.60.0)\n",
      "Requirement already satisfied: scikit-learn>=1.4.0 in /home/jubuntu/anaconda3/envs/mlops/lib/python3.12/site-packages (from shapash>=2.0.0->eurybia) (1.5.2)\n",
      "Requirement already satisfied: category-encoders>=2.6.0 in /home/jubuntu/anaconda3/envs/mlops/lib/python3.12/site-packages (from shapash>=2.0.0->eurybia) (2.6.4)\n",
      "Requirement already satisfied: tenacity>=6.2.0 in /home/jubuntu/anaconda3/envs/mlops/lib/python3.12/site-packages (from plotly->eurybia) (9.0.0)\n",
      "Requirement already satisfied: contourpy>=1.2 in /home/jubuntu/anaconda3/envs/mlops/lib/python3.12/site-packages (from bokeh<3.7.0,>=3.5.0->panel>=1.4.1->eurybia) (1.3.0)\n",
      "Requirement already satisfied: pillow>=7.1.0 in /home/jubuntu/anaconda3/envs/mlops/lib/python3.12/site-packages (from bokeh<3.7.0,>=3.5.0->panel>=1.4.1->eurybia) (11.0.0)\n",
      "Requirement already satisfied: PyYAML>=3.10 in /home/jubuntu/anaconda3/envs/mlops/lib/python3.12/site-packages (from bokeh<3.7.0,>=3.5.0->panel>=1.4.1->eurybia) (6.0.2)\n",
      "Requirement already satisfied: tornado>=6.2 in /home/jubuntu/anaconda3/envs/mlops/lib/python3.12/site-packages (from bokeh<3.7.0,>=3.5.0->panel>=1.4.1->eurybia) (6.4.1)\n",
      "Requirement already satisfied: xyzservices>=2021.09.1 in /home/jubuntu/anaconda3/envs/mlops/lib/python3.12/site-packages (from bokeh<3.7.0,>=3.5.0->panel>=1.4.1->eurybia) (2024.9.0)\n",
      "Requirement already satisfied: statsmodels>=0.9.0 in /home/jubuntu/anaconda3/envs/mlops/lib/python3.12/site-packages (from category-encoders>=2.6.0->shapash>=2.0.0->eurybia) (0.14.4)\n",
      "Requirement already satisfied: patsy>=0.5.1 in /home/jubuntu/anaconda3/envs/mlops/lib/python3.12/site-packages (from category-encoders>=2.6.0->shapash>=2.0.0->eurybia) (0.5.6)\n",
      "Requirement already satisfied: Werkzeug<3.1 in /home/jubuntu/anaconda3/envs/mlops/lib/python3.12/site-packages (from dash>=2.3.1->shapash>=2.0.0->eurybia) (3.0.6)\n",
      "Requirement already satisfied: importlib-metadata in /home/jubuntu/anaconda3/envs/mlops/lib/python3.12/site-packages (from dash>=2.3.1->shapash>=2.0.0->eurybia) (8.5.0)\n",
      "Requirement already satisfied: retrying in /home/jubuntu/anaconda3/envs/mlops/lib/python3.12/site-packages (from dash>=2.3.1->shapash>=2.0.0->eurybia) (1.3.4)\n",
      "Requirement already satisfied: nest-asyncio in /home/jubuntu/anaconda3/envs/mlops/lib/python3.12/site-packages (from dash>=2.3.1->shapash>=2.0.0->eurybia) (1.6.0)\n",
      "Requirement already satisfied: setuptools in /home/jubuntu/anaconda3/envs/mlops/lib/python3.12/site-packages (from dash>=2.3.1->shapash>=2.0.0->eurybia) (75.1.0)\n",
      "Requirement already satisfied: itsdangerous>=2.1.2 in /home/jubuntu/anaconda3/envs/mlops/lib/python3.12/site-packages (from Flask>=1.0.4->shapash>=2.0.0->eurybia) (2.2.0)\n",
      "Requirement already satisfied: click>=8.1.3 in /home/jubuntu/anaconda3/envs/mlops/lib/python3.12/site-packages (from Flask>=1.0.4->shapash>=2.0.0->eurybia) (8.1.7)\n",
      "Requirement already satisfied: blinker>=1.6.2 in /home/jubuntu/anaconda3/envs/mlops/lib/python3.12/site-packages (from Flask>=1.0.4->shapash>=2.0.0->eurybia) (1.8.2)\n",
      "Requirement already satisfied: cycler>=0.10 in /home/jubuntu/anaconda3/envs/mlops/lib/python3.12/site-packages (from matplotlib->catboost>=1.0.1->eurybia) (0.12.1)\n",
      "Requirement already satisfied: fonttools>=4.22.0 in /home/jubuntu/anaconda3/envs/mlops/lib/python3.12/site-packages (from matplotlib->catboost>=1.0.1->eurybia) (4.54.1)\n",
      "Requirement already satisfied: kiwisolver>=1.3.1 in /home/jubuntu/anaconda3/envs/mlops/lib/python3.12/site-packages (from matplotlib->catboost>=1.0.1->eurybia) (1.4.7)\n",
      "Requirement already satisfied: pyparsing>=2.3.1 in /home/jubuntu/anaconda3/envs/mlops/lib/python3.12/site-packages (from matplotlib->catboost>=1.0.1->eurybia) (3.2.0)\n",
      "Requirement already satisfied: fastjsonschema>=2.15 in /home/jubuntu/anaconda3/envs/mlops/lib/python3.12/site-packages (from nbformat>4.2.0->shapash>=2.0.0->eurybia) (2.20.0)\n",
      "Requirement already satisfied: jsonschema>=2.6 in /home/jubuntu/anaconda3/envs/mlops/lib/python3.12/site-packages (from nbformat>4.2.0->shapash>=2.0.0->eurybia) (4.23.0)\n",
      "Requirement already satisfied: jupyter-core!=5.0.*,>=4.12 in /home/jubuntu/anaconda3/envs/mlops/lib/python3.12/site-packages (from nbformat>4.2.0->shapash>=2.0.0->eurybia) (5.7.2)\n",
      "Requirement already satisfied: traitlets>=5.1 in /home/jubuntu/anaconda3/envs/mlops/lib/python3.12/site-packages (from nbformat>4.2.0->shapash>=2.0.0->eurybia) (5.14.3)\n",
      "Requirement already satisfied: llvmlite<0.44,>=0.43.0dev0 in /home/jubuntu/anaconda3/envs/mlops/lib/python3.12/site-packages (from numba>=0.53.1->shapash>=2.0.0->eurybia) (0.43.0)\n",
      "Requirement already satisfied: joblib>=1.2.0 in /home/jubuntu/anaconda3/envs/mlops/lib/python3.12/site-packages (from scikit-learn>=1.4.0->shapash>=2.0.0->eurybia) (1.4.2)\n",
      "Requirement already satisfied: threadpoolctl>=3.1.0 in /home/jubuntu/anaconda3/envs/mlops/lib/python3.12/site-packages (from scikit-learn>=1.4.0->shapash>=2.0.0->eurybia) (3.5.0)\n",
      "Requirement already satisfied: slicer==0.0.8 in /home/jubuntu/anaconda3/envs/mlops/lib/python3.12/site-packages (from shap>=0.45.0->shapash>=2.0.0->eurybia) (0.0.8)\n",
      "Requirement already satisfied: cloudpickle in /home/jubuntu/anaconda3/envs/mlops/lib/python3.12/site-packages (from shap>=0.45.0->shapash>=2.0.0->eurybia) (3.1.0)\n",
      "Requirement already satisfied: webencodings in /home/jubuntu/anaconda3/envs/mlops/lib/python3.12/site-packages (from bleach->panel>=1.4.1->eurybia) (0.5.1)\n",
      "Requirement already satisfied: uc-micro-py in /home/jubuntu/anaconda3/envs/mlops/lib/python3.12/site-packages (from linkify-it-py->panel>=1.4.1->eurybia) (1.0.3)\n",
      "Requirement already satisfied: mdurl~=0.1 in /home/jubuntu/anaconda3/envs/mlops/lib/python3.12/site-packages (from markdown-it-py->panel>=1.4.1->eurybia) (0.1.2)\n",
      "Requirement already satisfied: charset-normalizer<4,>=2 in /home/jubuntu/anaconda3/envs/mlops/lib/python3.12/site-packages (from requests->panel>=1.4.1->eurybia) (3.4.0)\n",
      "Requirement already satisfied: idna<4,>=2.5 in /home/jubuntu/anaconda3/envs/mlops/lib/python3.12/site-packages (from requests->panel>=1.4.1->eurybia) (3.10)\n",
      "Requirement already satisfied: urllib3<3,>=1.21.1 in /home/jubuntu/anaconda3/envs/mlops/lib/python3.12/site-packages (from requests->panel>=1.4.1->eurybia) (2.2.3)\n",
      "Requirement already satisfied: certifi>=2017.4.17 in /home/jubuntu/anaconda3/envs/mlops/lib/python3.12/site-packages (from requests->panel>=1.4.1->eurybia) (2024.8.30)\n",
      "Requirement already satisfied: attrs>=22.2.0 in /home/jubuntu/anaconda3/envs/mlops/lib/python3.12/site-packages (from jsonschema>=2.6->nbformat>4.2.0->shapash>=2.0.0->eurybia) (24.2.0)\n",
      "Requirement already satisfied: jsonschema-specifications>=2023.03.6 in /home/jubuntu/anaconda3/envs/mlops/lib/python3.12/site-packages (from jsonschema>=2.6->nbformat>4.2.0->shapash>=2.0.0->eurybia) (2024.10.1)\n",
      "Requirement already satisfied: referencing>=0.28.4 in /home/jubuntu/anaconda3/envs/mlops/lib/python3.12/site-packages (from jsonschema>=2.6->nbformat>4.2.0->shapash>=2.0.0->eurybia) (0.35.1)\n",
      "Requirement already satisfied: rpds-py>=0.7.1 in /home/jubuntu/anaconda3/envs/mlops/lib/python3.12/site-packages (from jsonschema>=2.6->nbformat>4.2.0->shapash>=2.0.0->eurybia) (0.21.0)\n",
      "Requirement already satisfied: platformdirs>=2.5 in /home/jubuntu/anaconda3/envs/mlops/lib/python3.12/site-packages (from jupyter-core!=5.0.*,>=4.12->nbformat>4.2.0->shapash>=2.0.0->eurybia) (4.3.6)\n",
      "Requirement already satisfied: zipp>=3.20 in /home/jubuntu/anaconda3/envs/mlops/lib/python3.12/site-packages (from importlib-metadata->dash>=2.3.1->shapash>=2.0.0->eurybia) (3.20.2)\n"
     ]
    }
   ],
   "source": [
    "! pip install eurybia"
   ]
  },
  {
   "cell_type": "markdown",
   "metadata": {
    "id": "S6qFJUvoFs8e"
   },
   "source": [
    "Utiliser eurybia pour monitorer le modèle. Dans un premier temps faire en sorte que les données (df_current) soient de la même distribution que vos données d’entraînement. Vérifier que Eurybia pense que le modèle ne drift pas\n"
   ]
  },
  {
   "cell_type": "code",
   "execution_count": 3,
   "metadata": {},
   "outputs": [
    {
     "data": {
      "text/html": [
       "<div>\n",
       "<style scoped>\n",
       "    .dataframe tbody tr th:only-of-type {\n",
       "        vertical-align: middle;\n",
       "    }\n",
       "\n",
       "    .dataframe tbody tr th {\n",
       "        vertical-align: top;\n",
       "    }\n",
       "\n",
       "    .dataframe thead th {\n",
       "        text-align: right;\n",
       "    }\n",
       "</style>\n",
       "<table border=\"1\" class=\"dataframe\">\n",
       "  <thead>\n",
       "    <tr style=\"text-align: right;\">\n",
       "      <th></th>\n",
       "      <th>size</th>\n",
       "      <th>nb_rooms</th>\n",
       "      <th>garden</th>\n",
       "      <th>orientation</th>\n",
       "      <th>price</th>\n",
       "    </tr>\n",
       "  </thead>\n",
       "  <tbody>\n",
       "    <tr>\n",
       "      <th>0</th>\n",
       "      <td>205.999169</td>\n",
       "      <td>2</td>\n",
       "      <td>0</td>\n",
       "      <td>Ouest</td>\n",
       "      <td>260972.164975</td>\n",
       "    </tr>\n",
       "    <tr>\n",
       "      <th>1</th>\n",
       "      <td>186.559166</td>\n",
       "      <td>2</td>\n",
       "      <td>0</td>\n",
       "      <td>Ouest</td>\n",
       "      <td>256534.245748</td>\n",
       "    </tr>\n",
       "    <tr>\n",
       "      <th>2</th>\n",
       "      <td>187.143785</td>\n",
       "      <td>1</td>\n",
       "      <td>1</td>\n",
       "      <td>Est</td>\n",
       "      <td>282674.291717</td>\n",
       "    </tr>\n",
       "    <tr>\n",
       "      <th>3</th>\n",
       "      <td>83.315363</td>\n",
       "      <td>2</td>\n",
       "      <td>1</td>\n",
       "      <td>Est</td>\n",
       "      <td>266555.384156</td>\n",
       "    </tr>\n",
       "    <tr>\n",
       "      <th>4</th>\n",
       "      <td>161.781580</td>\n",
       "      <td>2</td>\n",
       "      <td>1</td>\n",
       "      <td>Sud</td>\n",
       "      <td>319158.418695</td>\n",
       "    </tr>\n",
       "  </tbody>\n",
       "</table>\n",
       "</div>"
      ],
      "text/plain": [
       "         size  nb_rooms  garden orientation          price\n",
       "0  205.999169         2       0       Ouest  260972.164975\n",
       "1  186.559166         2       0       Ouest  256534.245748\n",
       "2  187.143785         1       1         Est  282674.291717\n",
       "3   83.315363         2       1         Est  266555.384156\n",
       "4  161.781580         2       1         Sud  319158.418695"
      ]
     },
     "execution_count": 3,
     "metadata": {},
     "output_type": "execute_result"
    }
   ],
   "source": [
    "df_current = pd.read_csv(\"./data/houses.csv\")\n",
    "df_current.head()"
   ]
  },
  {
   "cell_type": "code",
   "execution_count": 11,
   "metadata": {},
   "outputs": [],
   "source": [
    "df_current[\"orientation\"] = df_current[\"orientation\"].map(\n",
    "    {\"Ouest\": 1, \"Est\": 2, \"Sud\": 3, \"Nord\": 4}\n",
    ")"
   ]
  },
  {
   "cell_type": "code",
   "execution_count": 16,
   "metadata": {
    "id": "_TjazQyrFs8i"
   },
   "outputs": [
    {
     "name": "stdout",
     "output_type": "stream",
     "text": [
      "INFO: Shap explainer type - <shap.explainers._tree.TreeExplainer object at 0x7f328b980da0>\n"
     ]
    }
   ],
   "source": [
    "df_train, df_test = train_test_split(df_current, test_size=0.2, random_state=42)\n",
    "\n",
    "regressor = RandomForestRegressor(max_depth=2, random_state=0)\n",
    "regressor.fit(df_train[[\"size\", \"nb_rooms\", \"garden\", \"orientation\"]], df_train[\"price\"])\n",
    "\n",
    "sd = SmartDrift(\n",
    "    df_current=df_current[[\"size\", \"nb_rooms\", \"garden\", \"orientation\"]],\n",
    "    df_baseline=df_train[[\"size\", \"nb_rooms\", \"garden\", \"orientation\"]],\n",
    "    deployed_model=regressor,\n",
    "    dataset_names={\n",
    "        \"df_current\": \"Current dataset Name\",\n",
    "        \"df_baseline\": \"Baseline dataset Name\",\n",
    "    },\n",
    ")\n",
    "\n",
    "sd.compile()\n",
    "\n",
    "sd.generate_report(\n",
    "    output_file=\"./data/report_train.html\",\n",
    "    title_story=\"Data drift\",\n",
    ")"
   ]
  },
  {
   "cell_type": "markdown",
   "metadata": {
    "id": "eXc0y7gxFs8k"
   },
   "source": [
    "Faire de même avec des données de test. Les données de tests ont-elle un drift par rapport au train ?\n"
   ]
  },
  {
   "cell_type": "code",
   "execution_count": 17,
   "metadata": {
    "id": "lqxlWgurFs8l"
   },
   "outputs": [
    {
     "name": "stdout",
     "output_type": "stream",
     "text": [
      "INFO: Shap explainer type - <shap.explainers._tree.TreeExplainer object at 0x7f3299860da0>\n"
     ]
    }
   ],
   "source": [
    "sd = SmartDrift(\n",
    "    df_current=df_current[[\"size\", \"nb_rooms\", \"garden\", \"orientation\"]],\n",
    "    df_baseline=df_test[[\"size\", \"nb_rooms\", \"garden\", \"orientation\"]],\n",
    "    deployed_model=regressor,\n",
    "    dataset_names={\n",
    "        \"df_current\": \"Current dataset Name\",\n",
    "        \"df_baseline\": \"Baseline dataset Name\",\n",
    "    },\n",
    ")\n",
    "\n",
    "sd.compile()\n",
    "\n",
    "sd.generate_report(\n",
    "    output_file=\"./data/report_test.html\",\n",
    "    title_story=\"Data drift\",\n",
    ")"
   ]
  },
  {
   "cell_type": "markdown",
   "metadata": {
    "id": "bpbUJGhzFs8m"
   },
   "source": [
    "Générer des données qui ne ressemblent ni au train ni au test (par exemple avec des données abérentes). Euribya détecte-t-il ces données ?"
   ]
  },
  {
   "cell_type": "code",
   "execution_count": 26,
   "metadata": {
    "id": "6pyIJbu5Fs8n"
   },
   "outputs": [
    {
     "data": {
      "text/html": [
       "<div>\n",
       "<style scoped>\n",
       "    .dataframe tbody tr th:only-of-type {\n",
       "        vertical-align: middle;\n",
       "    }\n",
       "\n",
       "    .dataframe tbody tr th {\n",
       "        vertical-align: top;\n",
       "    }\n",
       "\n",
       "    .dataframe thead th {\n",
       "        text-align: right;\n",
       "    }\n",
       "</style>\n",
       "<table border=\"1\" class=\"dataframe\">\n",
       "  <thead>\n",
       "    <tr style=\"text-align: right;\">\n",
       "      <th></th>\n",
       "      <th>size</th>\n",
       "      <th>nb_rooms</th>\n",
       "      <th>garden</th>\n",
       "      <th>orientation</th>\n",
       "      <th>price</th>\n",
       "    </tr>\n",
       "  </thead>\n",
       "  <tbody>\n",
       "    <tr>\n",
       "      <th>0</th>\n",
       "      <td>1000.1</td>\n",
       "      <td>500</td>\n",
       "      <td>4</td>\n",
       "      <td>1</td>\n",
       "      <td>1000</td>\n",
       "    </tr>\n",
       "    <tr>\n",
       "      <th>1</th>\n",
       "      <td>2000.2</td>\n",
       "      <td>4</td>\n",
       "      <td>1</td>\n",
       "      <td>2</td>\n",
       "      <td>2000</td>\n",
       "    </tr>\n",
       "    <tr>\n",
       "      <th>2</th>\n",
       "      <td>3000.3</td>\n",
       "      <td>30</td>\n",
       "      <td>5</td>\n",
       "      <td>3</td>\n",
       "      <td>3000</td>\n",
       "    </tr>\n",
       "    <tr>\n",
       "      <th>3</th>\n",
       "      <td>4000.4</td>\n",
       "      <td>800</td>\n",
       "      <td>10</td>\n",
       "      <td>4</td>\n",
       "      <td>4000</td>\n",
       "    </tr>\n",
       "    <tr>\n",
       "      <th>4</th>\n",
       "      <td>5000.5</td>\n",
       "      <td>5000</td>\n",
       "      <td>40</td>\n",
       "      <td>1</td>\n",
       "      <td>5000</td>\n",
       "    </tr>\n",
       "    <tr>\n",
       "      <th>5</th>\n",
       "      <td>6000.6</td>\n",
       "      <td>60000</td>\n",
       "      <td>66</td>\n",
       "      <td>2</td>\n",
       "      <td>1</td>\n",
       "    </tr>\n",
       "  </tbody>\n",
       "</table>\n",
       "</div>"
      ],
      "text/plain": [
       "     size  nb_rooms  garden  orientation  price\n",
       "0  1000.1       500       4            1   1000\n",
       "1  2000.2         4       1            2   2000\n",
       "2  3000.3        30       5            3   3000\n",
       "3  4000.4       800      10            4   4000\n",
       "4  5000.5      5000      40            1   5000\n",
       "5  6000.6     60000      66            2      1"
      ]
     },
     "execution_count": 26,
     "metadata": {},
     "output_type": "execute_result"
    }
   ],
   "source": [
    "generated_data = pd.DataFrame(\n",
    "    {\n",
    "        \"size\": [1000.1, 2000.2, 3000.3, 4000.4, 5000.5, 6000.6],\n",
    "        \"nb_rooms\": [500, 4, 30, 800, 5000, 60000],\n",
    "        \"garden\": [4, 1, 5, 10, 40, 66],\n",
    "        \"orientation\": [1, 2, 3, 4, 1, 2],\n",
    "        \"price\": [1000, 2000, 3000, 4000, 5000, 1],\n",
    "    }\n",
    ")\n",
    "generated_data"
   ]
  },
  {
   "cell_type": "code",
   "execution_count": 27,
   "metadata": {},
   "outputs": [
    {
     "name": "stdout",
     "output_type": "stream",
     "text": [
      "INFO: Shap explainer type - <shap.explainers._tree.TreeExplainer object at 0x7f3299efbb00>\n"
     ]
    }
   ],
   "source": [
    "features = [\"size\", \"nb_rooms\", \"garden\", \"orientation\"]\n",
    "\n",
    "sd = SmartDrift(\n",
    "    df_current=df_current[features],\n",
    "    df_baseline=generated_data[features],\n",
    "    deployed_model=regressor,\n",
    "    dataset_names={\n",
    "        \"df_current\": \"Current dataset Name\",\n",
    "        \"df_baseline\": \"Baseline dataset Name\",\n",
    "    },\n",
    ")\n",
    "\n",
    "sd.compile()\n",
    "\n",
    "sd.generate_report(\n",
    "    output_file=\"./data/report_generated_data.html\",\n",
    "    title_story=\"Data drift\",\n",
    ")"
   ]
  },
  {
   "cell_type": "markdown",
   "metadata": {
    "id": "NYnareE4Fs8o"
   },
   "source": [
    "## Alibaba detect\n",
    "\n",
    "Dans cette partie on va utiliser la librairie https://github.com/SeldonIO/alibi-detect pour faire la détection de problèmes\n",
    "Installer la librairie avec pip"
   ]
  },
  {
   "cell_type": "code",
   "execution_count": 28,
   "metadata": {
    "id": "WX5iAyTJFs8q"
   },
   "outputs": [
    {
     "name": "stdout",
     "output_type": "stream",
     "text": [
      "Collecting alibi-detect\n",
      "  Downloading alibi_detect-0.12.0-py3-none-any.whl.metadata (28 kB)\n",
      "Requirement already satisfied: matplotlib<4.0.0,>=3.0.0 in /home/jubuntu/anaconda3/envs/mlops/lib/python3.12/site-packages (from alibi-detect) (3.9.2)\n",
      "Requirement already satisfied: numpy<2.0.0,>=1.16.2 in /home/jubuntu/anaconda3/envs/mlops/lib/python3.12/site-packages (from alibi-detect) (1.26.4)\n",
      "Requirement already satisfied: pandas<3.0.0,>=1.0.0 in /home/jubuntu/anaconda3/envs/mlops/lib/python3.12/site-packages (from alibi-detect) (2.2.3)\n",
      "Collecting Pillow<11.0.0,>=5.4.1 (from alibi-detect)\n",
      "  Downloading pillow-10.4.0-cp312-cp312-manylinux_2_28_x86_64.whl.metadata (9.2 kB)\n",
      "Collecting opencv-python<5.0.0,>=3.2.0 (from alibi-detect)\n",
      "  Using cached opencv_python-4.10.0.84-cp37-abi3-manylinux_2_17_x86_64.manylinux2014_x86_64.whl.metadata (20 kB)\n",
      "Requirement already satisfied: scipy<2.0.0,>=1.3.0 in /home/jubuntu/anaconda3/envs/mlops/lib/python3.12/site-packages (from alibi-detect) (1.14.1)\n",
      "Collecting scikit-image<0.23,>=0.19 (from alibi-detect)\n",
      "  Downloading scikit_image-0.22.0-cp312-cp312-manylinux_2_17_x86_64.manylinux2014_x86_64.whl.metadata (13 kB)\n",
      "Requirement already satisfied: scikit-learn<2.0.0,>=0.20.2 in /home/jubuntu/anaconda3/envs/mlops/lib/python3.12/site-packages (from alibi-detect) (1.5.2)\n",
      "Collecting transformers<5.0.0,>=4.0.0 (from alibi-detect)\n",
      "  Downloading transformers-4.46.2-py3-none-any.whl.metadata (44 kB)\n",
      "Collecting dill<0.4.0,>=0.3.0 (from alibi-detect)\n",
      "  Using cached dill-0.3.9-py3-none-any.whl.metadata (10 kB)\n",
      "Requirement already satisfied: tqdm<5.0.0,>=4.28.1 in /home/jubuntu/anaconda3/envs/mlops/lib/python3.12/site-packages (from alibi-detect) (4.67.0)\n",
      "Requirement already satisfied: requests<3.0.0,>=2.21.0 in /home/jubuntu/anaconda3/envs/mlops/lib/python3.12/site-packages (from alibi-detect) (2.32.3)\n",
      "Requirement already satisfied: pydantic<3.0.0,>=1.8.0 in /home/jubuntu/anaconda3/envs/mlops/lib/python3.12/site-packages (from alibi-detect) (2.9.2)\n",
      "Collecting toml<1.0.0,>=0.10.1 (from alibi-detect)\n",
      "  Using cached toml-0.10.2-py2.py3-none-any.whl.metadata (7.1 kB)\n",
      "Collecting catalogue<3.0.0,>=2.0.0 (from alibi-detect)\n",
      "  Using cached catalogue-2.0.10-py3-none-any.whl.metadata (14 kB)\n",
      "Collecting numba!=0.54.0,<0.60.0,>=0.50.0 (from alibi-detect)\n",
      "  Downloading numba-0.59.1-cp312-cp312-manylinux2014_x86_64.manylinux_2_17_x86_64.whl.metadata (2.7 kB)\n",
      "Requirement already satisfied: typing-extensions>=3.7.4.3 in /home/jubuntu/anaconda3/envs/mlops/lib/python3.12/site-packages (from alibi-detect) (4.12.2)\n",
      "Requirement already satisfied: contourpy>=1.0.1 in /home/jubuntu/anaconda3/envs/mlops/lib/python3.12/site-packages (from matplotlib<4.0.0,>=3.0.0->alibi-detect) (1.3.0)\n",
      "Requirement already satisfied: cycler>=0.10 in /home/jubuntu/anaconda3/envs/mlops/lib/python3.12/site-packages (from matplotlib<4.0.0,>=3.0.0->alibi-detect) (0.12.1)\n",
      "Requirement already satisfied: fonttools>=4.22.0 in /home/jubuntu/anaconda3/envs/mlops/lib/python3.12/site-packages (from matplotlib<4.0.0,>=3.0.0->alibi-detect) (4.54.1)\n",
      "Requirement already satisfied: kiwisolver>=1.3.1 in /home/jubuntu/anaconda3/envs/mlops/lib/python3.12/site-packages (from matplotlib<4.0.0,>=3.0.0->alibi-detect) (1.4.7)\n",
      "Requirement already satisfied: packaging>=20.0 in /home/jubuntu/anaconda3/envs/mlops/lib/python3.12/site-packages (from matplotlib<4.0.0,>=3.0.0->alibi-detect) (24.1)\n",
      "Requirement already satisfied: pyparsing>=2.3.1 in /home/jubuntu/anaconda3/envs/mlops/lib/python3.12/site-packages (from matplotlib<4.0.0,>=3.0.0->alibi-detect) (3.2.0)\n",
      "Requirement already satisfied: python-dateutil>=2.7 in /home/jubuntu/anaconda3/envs/mlops/lib/python3.12/site-packages (from matplotlib<4.0.0,>=3.0.0->alibi-detect) (2.9.0)\n",
      "Collecting llvmlite<0.43,>=0.42.0dev0 (from numba!=0.54.0,<0.60.0,>=0.50.0->alibi-detect)\n",
      "  Downloading llvmlite-0.42.0-cp312-cp312-manylinux_2_17_x86_64.manylinux2014_x86_64.whl.metadata (4.8 kB)\n",
      "Requirement already satisfied: pytz>=2020.1 in /home/jubuntu/anaconda3/envs/mlops/lib/python3.12/site-packages (from pandas<3.0.0,>=1.0.0->alibi-detect) (2024.2)\n",
      "Requirement already satisfied: tzdata>=2022.7 in /home/jubuntu/anaconda3/envs/mlops/lib/python3.12/site-packages (from pandas<3.0.0,>=1.0.0->alibi-detect) (2024.2)\n",
      "Requirement already satisfied: annotated-types>=0.6.0 in /home/jubuntu/anaconda3/envs/mlops/lib/python3.12/site-packages (from pydantic<3.0.0,>=1.8.0->alibi-detect) (0.7.0)\n",
      "Requirement already satisfied: pydantic-core==2.23.4 in /home/jubuntu/anaconda3/envs/mlops/lib/python3.12/site-packages (from pydantic<3.0.0,>=1.8.0->alibi-detect) (2.23.4)\n",
      "Requirement already satisfied: charset-normalizer<4,>=2 in /home/jubuntu/anaconda3/envs/mlops/lib/python3.12/site-packages (from requests<3.0.0,>=2.21.0->alibi-detect) (3.4.0)\n",
      "Requirement already satisfied: idna<4,>=2.5 in /home/jubuntu/anaconda3/envs/mlops/lib/python3.12/site-packages (from requests<3.0.0,>=2.21.0->alibi-detect) (3.10)\n",
      "Requirement already satisfied: urllib3<3,>=1.21.1 in /home/jubuntu/anaconda3/envs/mlops/lib/python3.12/site-packages (from requests<3.0.0,>=2.21.0->alibi-detect) (2.2.3)\n",
      "Requirement already satisfied: certifi>=2017.4.17 in /home/jubuntu/anaconda3/envs/mlops/lib/python3.12/site-packages (from requests<3.0.0,>=2.21.0->alibi-detect) (2024.8.30)\n",
      "Collecting networkx>=2.8 (from scikit-image<0.23,>=0.19->alibi-detect)\n",
      "  Using cached networkx-3.4.2-py3-none-any.whl.metadata (6.3 kB)\n",
      "Collecting imageio>=2.27 (from scikit-image<0.23,>=0.19->alibi-detect)\n",
      "  Downloading imageio-2.36.0-py3-none-any.whl.metadata (5.2 kB)\n",
      "Collecting tifffile>=2022.8.12 (from scikit-image<0.23,>=0.19->alibi-detect)\n",
      "  Downloading tifffile-2024.9.20-py3-none-any.whl.metadata (32 kB)\n",
      "Collecting lazy_loader>=0.3 (from scikit-image<0.23,>=0.19->alibi-detect)\n",
      "  Using cached lazy_loader-0.4-py3-none-any.whl.metadata (7.6 kB)\n",
      "Requirement already satisfied: joblib>=1.2.0 in /home/jubuntu/anaconda3/envs/mlops/lib/python3.12/site-packages (from scikit-learn<2.0.0,>=0.20.2->alibi-detect) (1.4.2)\n",
      "Requirement already satisfied: threadpoolctl>=3.1.0 in /home/jubuntu/anaconda3/envs/mlops/lib/python3.12/site-packages (from scikit-learn<2.0.0,>=0.20.2->alibi-detect) (3.5.0)\n",
      "Collecting filelock (from transformers<5.0.0,>=4.0.0->alibi-detect)\n",
      "  Using cached filelock-3.16.1-py3-none-any.whl.metadata (2.9 kB)\n",
      "Collecting huggingface-hub<1.0,>=0.23.2 (from transformers<5.0.0,>=4.0.0->alibi-detect)\n",
      "  Downloading huggingface_hub-0.26.2-py3-none-any.whl.metadata (13 kB)\n",
      "Requirement already satisfied: pyyaml>=5.1 in /home/jubuntu/anaconda3/envs/mlops/lib/python3.12/site-packages (from transformers<5.0.0,>=4.0.0->alibi-detect) (6.0.2)\n",
      "Collecting regex!=2019.12.17 (from transformers<5.0.0,>=4.0.0->alibi-detect)\n",
      "  Downloading regex-2024.11.6-cp312-cp312-manylinux_2_17_x86_64.manylinux2014_x86_64.whl.metadata (40 kB)\n",
      "Collecting safetensors>=0.4.1 (from transformers<5.0.0,>=4.0.0->alibi-detect)\n",
      "  Downloading safetensors-0.4.5-cp312-cp312-manylinux_2_17_x86_64.manylinux2014_x86_64.whl.metadata (3.8 kB)\n",
      "Collecting tokenizers<0.21,>=0.20 (from transformers<5.0.0,>=4.0.0->alibi-detect)\n",
      "  Downloading tokenizers-0.20.3-cp312-cp312-manylinux_2_17_x86_64.manylinux2014_x86_64.whl.metadata (6.7 kB)\n",
      "Collecting fsspec>=2023.5.0 (from huggingface-hub<1.0,>=0.23.2->transformers<5.0.0,>=4.0.0->alibi-detect)\n",
      "  Using cached fsspec-2024.10.0-py3-none-any.whl.metadata (11 kB)\n",
      "Requirement already satisfied: six>=1.5 in /home/jubuntu/anaconda3/envs/mlops/lib/python3.12/site-packages (from python-dateutil>=2.7->matplotlib<4.0.0,>=3.0.0->alibi-detect) (1.16.0)\n",
      "Downloading alibi_detect-0.12.0-py3-none-any.whl (381 kB)\n",
      "Using cached catalogue-2.0.10-py3-none-any.whl (17 kB)\n",
      "Using cached dill-0.3.9-py3-none-any.whl (119 kB)\n",
      "Downloading numba-0.59.1-cp312-cp312-manylinux2014_x86_64.manylinux_2_17_x86_64.whl (3.7 MB)\n",
      "\u001b[2K   \u001b[90m━━━━━━━━━━━━━━━━━━━━━━━━━━━━━━━━━━━━━━━━\u001b[0m \u001b[32m3.7/3.7 MB\u001b[0m \u001b[31m7.6 MB/s\u001b[0m eta \u001b[36m0:00:00\u001b[0ma \u001b[36m0:00:01\u001b[0m\n",
      "\u001b[?25hUsing cached opencv_python-4.10.0.84-cp37-abi3-manylinux_2_17_x86_64.manylinux2014_x86_64.whl (62.5 MB)\n",
      "Downloading pillow-10.4.0-cp312-cp312-manylinux_2_28_x86_64.whl (4.5 MB)\n",
      "\u001b[2K   \u001b[90m━━━━━━━━━━━━━━━━━━━━━━━━━━━━━━━━━━━━━━━━\u001b[0m \u001b[32m4.5/4.5 MB\u001b[0m \u001b[31m7.7 MB/s\u001b[0m eta \u001b[36m0:00:00\u001b[0ma \u001b[36m0:00:01\u001b[0m\n",
      "\u001b[?25hDownloading scikit_image-0.22.0-cp312-cp312-manylinux_2_17_x86_64.manylinux2014_x86_64.whl (15.0 MB)\n",
      "\u001b[2K   \u001b[90m━━━━━━━━━━━━━━━━━━━━━━━━━━━━━━━━━━━━━━━━\u001b[0m \u001b[32m15.0/15.0 MB\u001b[0m \u001b[31m3.3 MB/s\u001b[0m eta \u001b[36m0:00:00\u001b[0m00:01\u001b[0m00:01\u001b[0m\n",
      "\u001b[?25hUsing cached toml-0.10.2-py2.py3-none-any.whl (16 kB)\n",
      "Downloading transformers-4.46.2-py3-none-any.whl (10.0 MB)\n",
      "\u001b[2K   \u001b[90m━━━━━━━━━━━━━━━━━━━━━━━━━━━━━━━━━━━━━━━━\u001b[0m \u001b[32m10.0/10.0 MB\u001b[0m \u001b[31m4.4 MB/s\u001b[0m eta \u001b[36m0:00:00\u001b[0m \u001b[36m0:00:01\u001b[0m\n",
      "\u001b[?25hDownloading huggingface_hub-0.26.2-py3-none-any.whl (447 kB)\n",
      "Downloading imageio-2.36.0-py3-none-any.whl (315 kB)\n",
      "Using cached lazy_loader-0.4-py3-none-any.whl (12 kB)\n",
      "Downloading llvmlite-0.42.0-cp312-cp312-manylinux_2_17_x86_64.manylinux2014_x86_64.whl (43.8 MB)\n",
      "\u001b[2K   \u001b[90m━━━━━━━━━━━━━━━━━━━━━━━━━━━━━━━━━━━━━━━━\u001b[0m \u001b[32m43.8/43.8 MB\u001b[0m \u001b[31m6.2 MB/s\u001b[0m eta \u001b[36m0:00:00\u001b[0m00:01\u001b[0m00:01\u001b[0m\n",
      "\u001b[?25hUsing cached networkx-3.4.2-py3-none-any.whl (1.7 MB)\n",
      "Downloading regex-2024.11.6-cp312-cp312-manylinux_2_17_x86_64.manylinux2014_x86_64.whl (796 kB)\n",
      "\u001b[2K   \u001b[90m━━━━━━━━━━━━━━━━━━━━━━━━━━━━━━━━━━━━━━━━\u001b[0m \u001b[32m796.9/796.9 kB\u001b[0m \u001b[31m6.4 MB/s\u001b[0m eta \u001b[36m0:00:00\u001b[0m\n",
      "\u001b[?25hDownloading safetensors-0.4.5-cp312-cp312-manylinux_2_17_x86_64.manylinux2014_x86_64.whl (434 kB)\n",
      "Downloading tifffile-2024.9.20-py3-none-any.whl (228 kB)\n",
      "Downloading tokenizers-0.20.3-cp312-cp312-manylinux_2_17_x86_64.manylinux2014_x86_64.whl (3.0 MB)\n",
      "\u001b[2K   \u001b[90m━━━━━━━━━━━━━━━━━━━━━━━━━━━━━━━━━━━━━━━━\u001b[0m \u001b[32m3.0/3.0 MB\u001b[0m \u001b[31m7.4 MB/s\u001b[0m eta \u001b[36m0:00:00\u001b[0ma \u001b[36m0:00:01\u001b[0m\n",
      "\u001b[?25hUsing cached filelock-3.16.1-py3-none-any.whl (16 kB)\n",
      "Using cached fsspec-2024.10.0-py3-none-any.whl (179 kB)\n",
      "Installing collected packages: toml, tifffile, safetensors, regex, Pillow, opencv-python, networkx, llvmlite, lazy_loader, fsspec, filelock, dill, catalogue, numba, imageio, huggingface-hub, tokenizers, scikit-image, transformers, alibi-detect\n",
      "  Attempting uninstall: Pillow\n",
      "    Found existing installation: pillow 11.0.0\n",
      "    Uninstalling pillow-11.0.0:\n",
      "      Successfully uninstalled pillow-11.0.0\n",
      "  Attempting uninstall: llvmlite\n",
      "    Found existing installation: llvmlite 0.43.0\n",
      "    Uninstalling llvmlite-0.43.0:\n",
      "      Successfully uninstalled llvmlite-0.43.0\n",
      "  Attempting uninstall: numba\n",
      "    Found existing installation: numba 0.60.0\n",
      "    Uninstalling numba-0.60.0:\n",
      "      Successfully uninstalled numba-0.60.0\n",
      "Successfully installed Pillow-10.4.0 alibi-detect-0.12.0 catalogue-2.0.10 dill-0.3.9 filelock-3.16.1 fsspec-2024.10.0 huggingface-hub-0.26.2 imageio-2.36.0 lazy_loader-0.4 llvmlite-0.42.0 networkx-3.4.2 numba-0.59.1 opencv-python-4.10.0.84 regex-2024.11.6 safetensors-0.4.5 scikit-image-0.22.0 tifffile-2024.9.20 tokenizers-0.20.3 toml-0.10.2 transformers-4.46.2\n",
      "Note: you may need to restart the kernel to use updated packages.\n"
     ]
    }
   ],
   "source": [
    "! pip install alibi-detect"
   ]
  },
  {
   "cell_type": "markdown",
   "metadata": {
    "id": "bJvFD2xrFs8r"
   },
   "source": [
    "Charger le jeu de donnée cifar10 avec keras et récupérer le train et le test puis,\n",
    "\n",
    "Normaliser les données de train en faisant un MinMaxScaling (diviser par 255)"
   ]
  },
  {
   "cell_type": "code",
   "execution_count": 14,
   "metadata": {
    "id": "X90oWx5AFs8v"
   },
   "outputs": [],
   "source": [
    "from tensorflow.keras.datasets import cifar10\n",
    "\n",
    "(x_train, y_train), (x_test, y_test) = cifar10.load_data()\n",
    "\n",
    "x_train = x_train.astype(\"float32\")\n",
    "x_train /= 255\n",
    "\n",
    "x_test = x_test.astype(\"float32\")\n",
    "x_test /= 255"
   ]
  },
  {
   "cell_type": "markdown",
   "metadata": {
    "id": "45x7yftfFs8w"
   },
   "source": [
    "Dans le sous package alibbi_detect.datasets importer les  fonction fetch_cifar10c et corruption_types_cifar10c"
   ]
  },
  {
   "cell_type": "code",
   "execution_count": 3,
   "metadata": {
    "id": "6u6Pp8x9Fs80"
   },
   "outputs": [],
   "source": [
    "from alibi_detect.datasets import fetch_cifar10c, corruption_types_cifar10c"
   ]
  },
  {
   "cell_type": "markdown",
   "metadata": {
    "id": "KH81nEs_Fs82"
   },
   "source": [
    "Afficher les types de corruption de données disponible avec la fonction corruption_types_cifar10c"
   ]
  },
  {
   "cell_type": "code",
   "execution_count": 4,
   "metadata": {
    "id": "OH0zp3fbFs84"
   },
   "outputs": [
    {
     "data": {
      "text/plain": [
       "['brightness',\n",
       " 'contrast',\n",
       " 'defocus_blur',\n",
       " 'elastic_transform',\n",
       " 'fog',\n",
       " 'frost',\n",
       " 'gaussian_blur',\n",
       " 'gaussian_noise',\n",
       " 'glass_blur',\n",
       " 'impulse_noise',\n",
       " 'jpeg_compression',\n",
       " 'motion_blur',\n",
       " 'pixelate',\n",
       " 'saturate',\n",
       " 'shot_noise',\n",
       " 'snow',\n",
       " 'spatter',\n",
       " 'speckle_noise',\n",
       " 'zoom_blur']"
      ]
     },
     "execution_count": 4,
     "metadata": {},
     "output_type": "execute_result"
    }
   ],
   "source": [
    "corruption_types_cifar10c()"
   ]
  },
  {
   "cell_type": "markdown",
   "metadata": {
    "id": "HDTT-67yFs86"
   },
   "source": [
    "Avec la fonction fetch_cifar10c récupérer des exemples corrompus de donnée ressemblant à cifar 10 et les stocker dans des variable X_corrupted et y_corrupted.\n",
    "\n",
    "Vous choisirez au moins les corruptions suivantes : ['gaussian_noise', 'motion_blur', 'brightness', 'pixelate']\n",
    "\n",
    "Vous spécifirez les argument severity=5 et return_X_y=True"
   ]
  },
  {
   "cell_type": "code",
   "execution_count": 6,
   "metadata": {
    "id": "o8SL8z_TFs8-"
   },
   "outputs": [],
   "source": [
    "X_corrupted, y_corrupted = fetch_cifar10c(corruption=['gaussian_noise', 'motion_blur', 'brightness', 'pixelate'], severity=5, return_X_y=True)"
   ]
  },
  {
   "cell_type": "markdown",
   "metadata": {
    "id": "Ilj7rn6aFs8_"
   },
   "source": [
    "Normaliser les images corrompues"
   ]
  },
  {
   "cell_type": "code",
   "execution_count": 7,
   "metadata": {
    "id": "tS0CR6e5Fs9B"
   },
   "outputs": [],
   "source": [
    "X_corrupted = X_corrupted.astype(\"float32\")\n",
    "X_corrupted /= 255"
   ]
  },
  {
   "cell_type": "markdown",
   "metadata": {
    "id": "h_mTwk7yFs9B"
   },
   "source": [
    "Afficher plusieurs des images corrompues."
   ]
  },
  {
   "cell_type": "code",
   "execution_count": 8,
   "metadata": {
    "id": "yHmjeAywFs9C"
   },
   "outputs": [
    {
     "data": {
      "image/png": "[encoded data removed]",
      "text/plain": [
       "<Figure size 1000x1000 with 4 Axes>"
      ]
     },
     "metadata": {},
     "output_type": "display_data"
    }
   ],
   "source": [
    "import matplotlib.pyplot as plt\n",
    "\n",
    "fig, axes = plt.subplots(1, 4, figsize=(10, 10))\n",
    "for i, ax in enumerate(axes):\n",
    "    ax.imshow(X_corrupted[i])\n",
    "    ax.axis(\"off\")\n",
    "plt.show()"
   ]
  },
  {
   "cell_type": "markdown",
   "metadata": {
    "id": "Bev6XyQZFs9D"
   },
   "source": [
    "On va maintenant prendre un modèle entraîné sur cifar10 pour voir l'impact des performances sur le modèle.\n",
    "\n",
    "Avec la fonction  fetch_tf_model du module alibi_detect.utils.fetching, charger le modèle préentraîné resnet32 sur cifar10\n"
   ]
  },
  {
   "cell_type": "code",
   "execution_count": 9,
   "metadata": {
    "id": "WOkVyhy2Fs9G"
   },
   "outputs": [
    {
     "name": "stdout",
     "output_type": "stream",
     "text": [
      "Downloading data from https://storage.googleapis.com/seldon-models/alibi-detect/classifier/cifar10/resnet32/model.h5\n",
      "4293464/4293464 [==============================] - 4s 1us/step\n"
     ]
    }
   ],
   "source": [
    "from alibi_detect.utils.fetching import fetch_tf_model, fetch_detector\n",
    "dataset = 'cifar10'\n",
    "model_name = 'resnet32'\n",
    "model = fetch_tf_model(dataset, model_name)"
   ]
  },
  {
   "cell_type": "markdown",
   "metadata": {
    "id": "PSVWdspmFs9K"
   },
   "source": [
    "Calculer la performance du model sur le jeu de train et de test"
   ]
  },
  {
   "cell_type": "code",
   "execution_count": 15,
   "metadata": {
    "id": "IyBxvmGaFs9M"
   },
   "outputs": [
    {
     "name": "stdout",
     "output_type": "stream",
     "text": [
      "Epoch 1/10\n",
      "782/782 [==============================] - 105s 128ms/step - loss: 0.3840 - accuracy: 0.9185\n",
      "Epoch 2/10\n",
      "782/782 [==============================] - 109s 140ms/step - loss: 0.3599 - accuracy: 0.9343\n",
      "Epoch 3/10\n",
      "782/782 [==============================] - 109s 140ms/step - loss: 0.3662 - accuracy: 0.9379\n",
      "Epoch 4/10\n",
      "782/782 [==============================] - 110s 141ms/step - loss: 0.3727 - accuracy: 0.9434\n",
      "Epoch 5/10\n",
      "782/782 [==============================] - 110s 141ms/step - loss: 0.3738 - accuracy: 0.9469\n",
      "Epoch 6/10\n",
      "782/782 [==============================] - 110s 141ms/step - loss: 0.3779 - accuracy: 0.9502\n",
      "Epoch 7/10\n",
      "782/782 [==============================] - 110s 141ms/step - loss: 0.3812 - accuracy: 0.9519\n",
      "Epoch 8/10\n",
      "782/782 [==============================] - 109s 139ms/step - loss: 0.3837 - accuracy: 0.9541\n",
      "Epoch 9/10\n",
      "782/782 [==============================] - 110s 141ms/step - loss: 0.3852 - accuracy: 0.9556\n",
      "Epoch 10/10\n",
      "782/782 [==============================] - 110s 141ms/step - loss: 0.3936 - accuracy: 0.9550\n",
      "79/79 [==============================] - 7s 81ms/step - loss: 0.9479 - accuracy: 0.8101\n"
     ]
    },
    {
     "data": {
      "text/plain": [
       "[0.9479143619537354, 0.8101000189781189]"
      ]
     },
     "execution_count": 15,
     "metadata": {},
     "output_type": "execute_result"
    }
   ],
   "source": [
    "model.compile(loss=\"sparse_categorical_crossentropy\", optimizer=\"adam\", metrics=[\"accuracy\"])\n",
    "model.fit(x_train, y_train, batch_size=64, epochs=10, verbose=1)\n",
    "model.evaluate(x_test, y_test, batch_size=128)"
   ]
  },
  {
   "cell_type": "markdown",
   "metadata": {
    "id": "7SG82jqxFs9N"
   },
   "source": [
    "Calculer la performance du modèle sur le jeu de donnée corrompu. Vous devriez observer qu'il chute significativement"
   ]
  },
  {
   "cell_type": "code",
   "execution_count": 16,
   "metadata": {
    "id": "KWux1w8EFs9P"
   },
   "outputs": [
    {
     "name": "stdout",
     "output_type": "stream",
     "text": [
      "313/313 [==============================] - 26s 81ms/step - loss: 2.8151 - accuracy: 0.4325\n"
     ]
    },
    {
     "data": {
      "text/plain": [
       "[2.8150522708892822, 0.4324750006198883]"
      ]
     },
     "execution_count": 16,
     "metadata": {},
     "output_type": "execute_result"
    }
   ],
   "source": [
    "model.evaluate(X_corrupted, y_corrupted, batch_size=128)"
   ]
  },
  {
   "cell_type": "markdown",
   "metadata": {
    "id": "RT9bns5tFs9Q"
   },
   "source": [
    "On va maintenant voir comment détecter les changement de distributions de données.\n",
    "\n",
    "Pour les données non tabulaire ou à haute dimension on procéde généralement en deux étapes :\n",
    "\n",
    "1. Faire une réduction de dimension\n",
    "2. Faire un test permettant de voir si les données projetées ont changé de distribution ou pas\n",
    "\n",
    "Il existe plusieurs manières de faire de la réduction de dimension. La plus classique est la PCA.\n",
    "\n",
    "Il est possible également d'utiliser des Auto-encoder\n",
    "\n",
    "Le code suivant permet de créer la première partie (l'encoder) d'un auto-encoder simple qui nous servira à réduire les dimension des données."
   ]
  },
  {
   "cell_type": "code",
   "execution_count": 20,
   "metadata": {
    "id": "ZBJao1RXFs9R"
   },
   "outputs": [],
   "source": [
    "from functools import partial\n",
    "import tensorflow as tf\n",
    "import numpy as np\n",
    "from tensorflow.keras.layers import Conv2D, Dense, Flatten, InputLayer\n",
    "\n",
    "tf.random.set_seed(0)\n",
    "\n",
    "encoding_dim = 32\n",
    "encoder_net = tf.keras.Sequential(\n",
    "  [\n",
    "      InputLayer(input_shape=(32, 32, 3)),\n",
    "      Conv2D(64, 4, strides=2, padding='same', activation=tf.nn.relu),\n",
    "      Conv2D(128, 4, strides=2, padding='same', activation=tf.nn.relu),\n",
    "      Conv2D(512, 4, strides=2, padding='same', activation=tf.nn.relu),\n",
    "      Flatten(),\n",
    "      Dense(encoding_dim,)\n",
    "  ]\n",
    ")"
   ]
  },
  {
   "cell_type": "markdown",
   "metadata": {
    "id": "mH4ZehyHFs9S"
   },
   "source": [
    "Le drift detector a besoin d'une donnée de référence afin d'effectuer la comparaison avec les données à monitorer.\n",
    "Créer une variable X_ref avec un échantillon aléatoire des données de test"
   ]
  },
  {
   "cell_type": "code",
   "execution_count": 21,
   "metadata": {
    "id": "Kk6euJipFs9T"
   },
   "outputs": [],
   "source": [
    "X_ref = x_test[np.random.choice(x_test.shape[0], 100, replace=False)]"
   ]
  },
  {
   "cell_type": "markdown",
   "metadata": {
    "id": "2ZrtwSr4Fs9Z"
   },
   "source": [
    "A quoi sert le test statistique kolmogorov smirnoff ?"
   ]
  },
  {
   "cell_type": "markdown",
   "metadata": {
    "id": "3XsIOHxBFs9d"
   },
   "source": [
    "Le test kolmogorov smirnoff sert à tester si deux échantillons de données ont la même distribution."
   ]
  },
  {
   "cell_type": "markdown",
   "metadata": {
    "id": "pXatEJZOFs9f"
   },
   "source": [
    "Instancier la classe KSDrift dans une variable nommée **detector**\n",
    "\n",
    "Il faut lui passer le dataset de reference, une p value (prendre 0.05) et une fonction permettant de faire le preprocessing. On a créé la fonction pour vous\n"
   ]
  },
  {
   "cell_type": "code",
   "execution_count": 22,
   "metadata": {
    "id": "epmDLfAfFs9i"
   },
   "outputs": [],
   "source": [
    "from alibi_detect.cd.tensorflow import preprocess_drift\n",
    "preprocess_function = partial(preprocess_drift, model=encoder_net, batch_size=32)"
   ]
  },
  {
   "cell_type": "markdown",
   "metadata": {
    "id": "zUSKpqulFs9k"
   },
   "source": [
    "A laide du Drift detector et la méthode predict faire des prediction sur les données de test et sur les données corrompue pour voir si il détecte un changement de distribution"
   ]
  },
  {
   "cell_type": "code",
   "execution_count": 30,
   "metadata": {
    "id": "yfaYUukjFs9o"
   },
   "outputs": [
    {
     "data": {
      "text/plain": [
       "{'data': {'is_drift': 1,\n",
       "  'distance': array([0.098975, 0.18735 , 0.104825, 0.2549  , 0.186325, 0.14285 ,\n",
       "         0.246725, 0.079475, 0.133725, 0.21165 , 0.201375, 0.237075,\n",
       "         0.108725, 0.244775, 0.218775, 0.049   , 0.164075, 0.172425,\n",
       "         0.14445 , 0.14025 , 0.149575, 0.221575, 0.234325, 0.20895 ,\n",
       "         0.0738  , 0.200775, 0.0881  , 0.1975  , 0.1092  , 0.060225,\n",
       "         0.123125, 0.24915 ], dtype=float32),\n",
       "  'p_val': array([2.6334921e-01, 1.5141725e-03, 2.0678420e-01, 3.2419875e-06,\n",
       "         1.6375859e-03, 3.0398786e-02, 7.5709140e-06, 5.2664775e-01,\n",
       "         5.0832868e-02, 2.0760307e-04, 4.9581443e-04, 1.9848048e-05,\n",
       "         1.7458770e-01, 9.2287455e-06, 1.1056894e-04, 9.6039033e-01,\n",
       "         8.0531547e-03, 4.5378357e-03, 2.7680628e-02, 3.5317376e-02,\n",
       "         2.0360878e-02, 8.5810709e-05, 2.5929738e-05, 2.6209923e-04,\n",
       "         6.2051785e-01, 5.2095228e-04, 3.9653915e-01, 6.8057224e-04,\n",
       "         1.7095144e-01, 8.3970189e-01, 8.8498935e-02, 5.9048025e-06],\n",
       "        dtype=float32),\n",
       "  'threshold': 0.0015625},\n",
       " 'meta': {'name': 'KSDrift',\n",
       "  'online': False,\n",
       "  'data_type': None,\n",
       "  'version': '0.12.0',\n",
       "  'detector_type': 'drift'}}"
      ]
     },
     "execution_count": 30,
     "metadata": {},
     "output_type": "execute_result"
    }
   ],
   "source": [
    "from alibi_detect.cd import KSDrift\n",
    "\n",
    "cd = KSDrift(\n",
    "    p_val=.05,\n",
    "    x_ref=X_ref,\n",
    "    preprocess_fn=preprocess_function,\n",
    ")\n",
    "\n",
    "cd.predict(X_corrupted)\n"
   ]
  },
  {
   "cell_type": "code",
   "execution_count": null,
   "metadata": {},
   "outputs": [],
   "source": []
  }
 ],
 "metadata": {
  "colab": {
   "provenance": []
  },
  "kernelspec": {
   "display_name": "Python 3 (ipykernel)",
   "language": "python",
   "name": "python3"
  },
  "language_info": {
   "codemirror_mode": {
    "name": "ipython",
    "version": 3
   },
   "file_extension": ".py",
   "mimetype": "text/x-python",
   "name": "python",
   "nbconvert_exporter": "python",
   "pygments_lexer": "ipython3",
   "version": "3.11.10"
  }
 },
 "nbformat": 4,
 "nbformat_minor": 4
}
